{
 "cells": [
  {
   "cell_type": "code",
   "execution_count": 14,
   "metadata": {},
   "outputs": [],
   "source": [
    "# Linkedin Scrapping \n",
    "\n",
    "import requests\n",
    "api_endpoint = 'https://nubela.co/proxycurl/api/v2/linkedin'\n",
    "api_key = 'kSNUS1xvv4wNuCDA9yqqaQ'\n",
    "header_dic = {'Authorization': 'Bearer ' + api_key}\n",
    "def Linkedin_Scrape(url):\n",
    "    params = {\n",
    "    'url': url,\n",
    "    'fallback_to_cache': 'on-error',\n",
    "    'use_cache': 'if-present',\n",
    "    'skills': 'include',\n",
    "    'inferred_salary': 'include',\n",
    "    'personal_email': 'include',\n",
    "    'personal_contact_number': 'include',\n",
    "    'twitter_profile_id': 'include',\n",
    "    'facebook_profile_id': 'include',\n",
    "    'github_profile_id': 'include',\n",
    "    'extra': 'include',\n",
    "    'headline' : 'include',\n",
    "    'certification' : 'include' \n",
    "     }\n",
    "    response = requests.get(api_endpoint,\n",
    "                        params=params,\n",
    "                        headers=header_dic)\n",
    "    return response"
   ]
  },
  {
   "cell_type": "code",
   "execution_count": 15,
   "metadata": {},
   "outputs": [],
   "source": [
    "data = Linkedin_Scrape('https://www.linkedin.com/in/shivam199063/')"
   ]
  },
  {
   "cell_type": "code",
   "execution_count": 16,
   "metadata": {},
   "outputs": [
    {
     "data": {
      "text/plain": [
       "<Response [200]>"
      ]
     },
     "execution_count": 16,
     "metadata": {},
     "output_type": "execute_result"
    }
   ],
   "source": [
    "data\n"
   ]
  },
  {
   "cell_type": "code",
   "execution_count": 17,
   "metadata": {},
   "outputs": [],
   "source": [
    "data = data.json()"
   ]
  },
  {
   "cell_type": "code",
   "execution_count": 20,
   "metadata": {},
   "outputs": [
    {
     "data": {
      "text/plain": [
       "'Shivam Saini'"
      ]
     },
     "execution_count": 20,
     "metadata": {},
     "output_type": "execute_result"
    }
   ],
   "source": [
    "data['full_name']"
   ]
  },
  {
   "cell_type": "code",
   "execution_count": 22,
   "metadata": {},
   "outputs": [
    {
     "data": {
      "text/plain": [
       "\"📍 I want to become an ethical Hacker in future and want to do something different for our country.\\n(Hacker  is not a criminal, Anyone who creates a new technology is also a Hacker  because they think out of the box and develop\\xa0new\\xa0things. -Shivam Saini )\\n\\n📍 I love C Programming and I started C Programming journey in 2016.\\n\\n📍 I Secured 1st position in Science stream, 10th and 12th class in UP Board examination(year 2016 & 2018) and I was the topper of my college.\\n\\n📍 I love to work with many tools and technologies parallelly.\\n\\n📍 Future goals which I'll achive before the end of 2025:\\n\\n1️⃣  Build a high speed mission critical web application where i use\\n     📌 Assembly x_86\\n     📌GPU Programming (CUDA)\\n     📌 C,C++,Java,Python\\n     📌 Java Native Interface\\n     📌 Microservices using Quarkus framework\\n     📌 Compiler Design\\n     \\n2️⃣ Operate and manage linux :\\n     \\n     📌 Virtualization and contanerization how works behind the scene\\n     📌 Making own private cloud ,Open Stack\\n     📌 Deploy mission critical application on any platform\\n     📌 Kubernetes ,Openshift \\n     📌 Machine learning in devops\\n     📌 Analyze why process crash and how to fix it. \\n     \\n3️⃣ Security :\\n    \\n    📌 Owasp top 10\\n    📌 Buffer overfollow\\n    📌 Reverse Engineering\\n    📌 Traffic analysis using wireshark\\n    📌 Burpsuite tool\\n    📌 Find any information on Darkweb\\n    📌 High level system design with security and test it by giving a stress of malwares and workload.\""
      ]
     },
     "execution_count": 22,
     "metadata": {},
     "output_type": "execute_result"
    }
   ],
   "source": [
    "data['summary']"
   ]
  },
  {
   "cell_type": "code",
   "execution_count": null,
   "metadata": {},
   "outputs": [],
   "source": []
  }
 ],
 "metadata": {
  "kernelspec": {
   "display_name": "Python 3",
   "language": "python",
   "name": "python3"
  },
  "language_info": {
   "codemirror_mode": {
    "name": "ipython",
    "version": 3
   },
   "file_extension": ".py",
   "mimetype": "text/x-python",
   "name": "python",
   "nbconvert_exporter": "python",
   "pygments_lexer": "ipython3",
   "version": "3.7.9"
  },
  "orig_nbformat": 4
 },
 "nbformat": 4,
 "nbformat_minor": 2
}
