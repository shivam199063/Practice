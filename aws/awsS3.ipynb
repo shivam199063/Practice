{
 "cells": [
  {
   "cell_type": "code",
   "execution_count": 14,
   "metadata": {},
   "outputs": [
    {
     "name": "stdout",
     "output_type": "stream",
     "text": [
      "\n",
      "Successfully Created:....!\n"
     ]
    },
    {
     "ename": "ValueError",
     "evalue": "invalid literal for int() with base 10: ''",
     "output_type": "error",
     "traceback": [
      "\u001b[1;31m---------------------------------------------------------------------------\u001b[0m",
      "\u001b[1;31mValueError\u001b[0m                                Traceback (most recent call last)",
      "\u001b[1;32m~\\AppData\\Local\\Temp\\ipykernel_6816\\3325367435.py\u001b[0m in \u001b[0;36m<module>\u001b[1;34m\u001b[0m\n\u001b[0;32m      1\u001b[0m \u001b[1;32mwhile\u001b[0m \u001b[1;32mTrue\u001b[0m\u001b[1;33m:\u001b[0m\u001b[1;33m\u001b[0m\u001b[1;33m\u001b[0m\u001b[0m\n\u001b[1;32m----> 2\u001b[1;33m     \u001b[0moption\u001b[0m\u001b[1;33m=\u001b[0m \u001b[0mint\u001b[0m\u001b[1;33m(\u001b[0m\u001b[0minput\u001b[0m\u001b[1;33m(\u001b[0m\u001b[1;34m\"Enter your Choice:  \"\u001b[0m\u001b[1;33m)\u001b[0m\u001b[1;33m)\u001b[0m\u001b[1;33m\u001b[0m\u001b[1;33m\u001b[0m\u001b[0m\n\u001b[0m\u001b[0;32m      3\u001b[0m \u001b[1;33m\u001b[0m\u001b[0m\n\u001b[0;32m      4\u001b[0m     \u001b[1;32mif\u001b[0m \u001b[0moption\u001b[0m\u001b[1;33m==\u001b[0m\u001b[1;36m1\u001b[0m\u001b[1;33m:\u001b[0m\u001b[1;33m\u001b[0m\u001b[1;33m\u001b[0m\u001b[0m\n\u001b[0;32m      5\u001b[0m         \u001b[0mname\u001b[0m\u001b[1;33m=\u001b[0m\u001b[0minput\u001b[0m\u001b[1;33m(\u001b[0m\u001b[1;34m\"Enter Bucket Name: \"\u001b[0m\u001b[1;33m)\u001b[0m\u001b[1;33m\u001b[0m\u001b[1;33m\u001b[0m\u001b[0m\n",
      "\u001b[1;31mValueError\u001b[0m: invalid literal for int() with base 10: ''"
     ]
    }
   ],
   "source": [
    "import boto3\n",
    "\n",
    "S3= boto3.client(\"s3\")\n",
    "\n",
    "print(\"::AWS S3 Manager::\\n\\n\")\n",
    "print(\"\"\"\n",
    "    Create Bucket:     <press>1\n",
    "    List Bucket:       <press>2\n",
    "    Delete Bucket:     <press>3\n",
    "    \\n\n",
    "    List Object(files):<press>4\n",
    "    File Upload:       <press>5\n",
    "    Download File:     <press>6\n",
    "    Delete File:       <press>7\n",
    "      \\n\n",
    "    Get File Metadata: <press>8\n",
    "    Exit...!           <press>9\n",
    "\n",
    "\"\"\")\n",
    "\n",
    "\n",
    "while True:\n",
    "    option= int(input(\"Enter your Choice:  \"))\n",
    "\n",
    "    if option==1:\n",
    "        name=input(\"Enter Bucket Name: \")\n",
    "        region=input(\"Enter Region: \")\n",
    "        S3.create_bucket( Bucket=name,ACL='private',CreateBucketConfiguration={'LocationConstraint': region} )\n",
    "        print(\"\\nSuccessfully Created:....!\")\n",
    "    \n",
    "    elif option==2:\n",
    "        list = S3.list_buckets()\n",
    "        for bucket in list[\"Buckets\"]:\n",
    "            print(bucket[\"Name\"])\n",
    "    \n",
    "    elif option==3:\n",
    "        name=input(\"Enter Bucket Name: \")\n",
    "        S3.delete_bucket(Bucket=name)\n",
    "        print(\"\\nSuccessfully Deleted:....!\")\n",
    "\n",
    "    elif option==4:\n",
    "        name=input(\"Enter Bucket Name: \")\n",
    "        files = S3.list_objects(Bucket=name)\n",
    "        for file in files[\"Contents\"]:\n",
    "            print(file[\"Key\"])\n",
    "\n",
    "    elif option==5:\n",
    "        name=input(\"Enter Bucket Name: \")\n",
    "        file=input(\"Enter File Path: \")\n",
    "        fileName=input(\"Enter file Name: \")\n",
    "        S3.upload_file(Bucket=name,Filename=file,Key=fileName)\n",
    "        print(f\"\\nSuccessfully Uploded as a name {fileName}:....!\")\n",
    "\n",
    "    elif option==6:\n",
    "        name=input(\"Enter Bucket Name: \")\n",
    "        fileName=input(\"Enter file Name: \")\n",
    "        S3.download_file(Bucket=name,Key=fileName,Filename=fileName)\n",
    "        print(\"\\nSuccessfully Downloaded:....!\")\n",
    "\n",
    "    elif option==7:\n",
    "        name=input(\"Enter Bucket Name: \")\n",
    "        fileName=input(\"Enter file Name: \")\n",
    "        S3.delete_object(Bucket=name,Key=fileName)\n",
    "\n",
    "    elif option==8:\n",
    "        name=input(\"Enter Bucket Name: \")\n",
    "        fileName=input(\"Enter file Name: \")\n",
    "        metadata = S3.head_object(Bucket=name,Key=fileName)\n",
    "        print(\"Metadata of File:......!\\n\")\n",
    "        print(metadata)\n",
    "\n",
    "    elif option==9:\n",
    "        break\n",
    "\n"
   ]
  },
  {
   "cell_type": "code",
   "execution_count": null,
   "metadata": {},
   "outputs": [],
   "source": []
  }
 ],
 "metadata": {
  "kernelspec": {
   "display_name": "Python 3",
   "language": "python",
   "name": "python3"
  },
  "language_info": {
   "codemirror_mode": {
    "name": "ipython",
    "version": 3
   },
   "file_extension": ".py",
   "mimetype": "text/x-python",
   "name": "python",
   "nbconvert_exporter": "python",
   "pygments_lexer": "ipython3",
   "version": "3.7.9"
  },
  "orig_nbformat": 4
 },
 "nbformat": 4,
 "nbformat_minor": 2
}
