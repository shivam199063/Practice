{
 "cells": [
  {
   "cell_type": "code",
   "execution_count": 1,
   "metadata": {},
   "outputs": [
    {
     "name": "stderr",
     "output_type": "stream",
     "text": [
      "C:\\Users\\shiva\\Downloads\\boto3\\boto3\\compat.py:82: PythonDeprecationWarning: Boto3 will no longer support Python 3.7 starting December 13, 2023. To continue receiving service updates, bug fixes, and security updates please upgrade to Python 3.8 or later. More information can be found here: https://aws.amazon.com/blogs/developer/python-support-policy-updates-for-aws-sdks-and-tools/\n",
      "  warnings.warn(warning, PythonDeprecationWarning)\n"
     ]
    }
   ],
   "source": [
    "import boto3\n",
    "\n",
    "S3= boto3.client(\"s3\")\n"
   ]
  },
  {
   "cell_type": "markdown",
   "metadata": {},
   "source": [
    "How to create Bucket"
   ]
  },
  {
   "cell_type": "code",
   "execution_count": 3,
   "metadata": {},
   "outputs": [
    {
     "data": {
      "text/plain": [
       "{'ResponseMetadata': {'RequestId': '0TFAGAXBV69YJ71J',\n",
       "  'HostId': 'rwrwytu9BpZqWissjqrQtGoe8TaJABoHzi0Tc/WslHrUfUGDzX8ic8BakVBPgKgVD3acPcmNVqQ=',\n",
       "  'HTTPStatusCode': 200,\n",
       "  'HTTPHeaders': {'x-amz-id-2': 'rwrwytu9BpZqWissjqrQtGoe8TaJABoHzi0Tc/WslHrUfUGDzX8ic8BakVBPgKgVD3acPcmNVqQ=',\n",
       "   'x-amz-request-id': '0TFAGAXBV69YJ71J',\n",
       "   'date': 'Mon, 31 Jul 2023 22:20:57 GMT',\n",
       "   'location': 'http://shivamsaini12345.s3.amazonaws.com/',\n",
       "   'server': 'AmazonS3',\n",
       "   'content-length': '0'},\n",
       "  'RetryAttempts': 0},\n",
       " 'Location': 'http://shivamsaini12345.s3.amazonaws.com/'}"
      ]
     },
     "execution_count": 3,
     "metadata": {},
     "output_type": "execute_result"
    }
   ],
   "source": [
    "S3.create_bucket( Bucket=\"shivamsaini12345\",ACL='private',CreateBucketConfiguration={'LocationConstraint': 'ap-south-2'} )"
   ]
  },
  {
   "cell_type": "markdown",
   "metadata": {},
   "source": [
    "List all bucket"
   ]
  },
  {
   "cell_type": "code",
   "execution_count": 31,
   "metadata": {},
   "outputs": [],
   "source": [
    "list = S3.list_buckets()"
   ]
  },
  {
   "cell_type": "code",
   "execution_count": 33,
   "metadata": {},
   "outputs": [
    {
     "data": {
      "text/plain": [
       "[{'Name': 'arpitsaini1',\n",
       "  'CreationDate': datetime.datetime(2023, 7, 31, 21, 57, 29, tzinfo=tzutc())},\n",
       " {'Name': 'arpitsaini1234',\n",
       "  'CreationDate': datetime.datetime(2023, 7, 31, 22, 20, 23, tzinfo=tzutc())},\n",
       " {'Name': 'custom-labels-console-ap-south-1-0a1c14f04c',\n",
       "  'CreationDate': datetime.datetime(2023, 7, 14, 12, 59, 14, tzinfo=tzutc())},\n",
       " {'Name': 'myblwbucket',\n",
       "  'CreationDate': datetime.datetime(2023, 7, 31, 20, 32, 5, tzinfo=tzutc())},\n",
       " {'Name': 'shivamsaini1234',\n",
       "  'CreationDate': datetime.datetime(2023, 7, 31, 21, 23, 23, tzinfo=tzutc())},\n",
       " {'Name': 'shivamsaini12345',\n",
       "  'CreationDate': datetime.datetime(2023, 7, 31, 22, 20, 58, tzinfo=tzutc())}]"
      ]
     },
     "execution_count": 33,
     "metadata": {},
     "output_type": "execute_result"
    }
   ],
   "source": [
    "list['Buckets']"
   ]
  },
  {
   "cell_type": "code",
   "execution_count": 34,
   "metadata": {},
   "outputs": [
    {
     "name": "stdout",
     "output_type": "stream",
     "text": [
      "{'Name': 'arpitsaini1', 'CreationDate': datetime.datetime(2023, 7, 31, 21, 57, 29, tzinfo=tzutc())}\n",
      "{'Name': 'arpitsaini1234', 'CreationDate': datetime.datetime(2023, 7, 31, 22, 20, 23, tzinfo=tzutc())}\n",
      "{'Name': 'custom-labels-console-ap-south-1-0a1c14f04c', 'CreationDate': datetime.datetime(2023, 7, 14, 12, 59, 14, tzinfo=tzutc())}\n",
      "{'Name': 'myblwbucket', 'CreationDate': datetime.datetime(2023, 7, 31, 20, 32, 5, tzinfo=tzutc())}\n",
      "{'Name': 'shivamsaini1234', 'CreationDate': datetime.datetime(2023, 7, 31, 21, 23, 23, tzinfo=tzutc())}\n",
      "{'Name': 'shivamsaini12345', 'CreationDate': datetime.datetime(2023, 7, 31, 22, 20, 58, tzinfo=tzutc())}\n"
     ]
    }
   ],
   "source": [
    "for bucket in list[\"Buckets\"]:\n",
    "    print(bucket)"
   ]
  },
  {
   "cell_type": "code",
   "execution_count": 35,
   "metadata": {},
   "outputs": [
    {
     "name": "stdout",
     "output_type": "stream",
     "text": [
      "arpitsaini1\n",
      "arpitsaini1234\n",
      "custom-labels-console-ap-south-1-0a1c14f04c\n",
      "myblwbucket\n",
      "shivamsaini1234\n",
      "shivamsaini12345\n"
     ]
    }
   ],
   "source": [
    "for bucket in list[\"Buckets\"]:\n",
    "    print(bucket[\"Name\"])"
   ]
  },
  {
   "cell_type": "markdown",
   "metadata": {},
   "source": [
    "Deleting Buckets:"
   ]
  },
  {
   "cell_type": "code",
   "execution_count": 37,
   "metadata": {},
   "outputs": [
    {
     "data": {
      "text/plain": [
       "{'ResponseMetadata': {'RequestId': '64QVGTPW5ZW321CY',\n",
       "  'HostId': 'EL0c9wwgHJaNYOrvv69CxcCVGIpqbJLU9S9XK9GKQhZsfNQqqPcoGjG4dp12SdiB3ts1tZTB3ho=',\n",
       "  'HTTPStatusCode': 204,\n",
       "  'HTTPHeaders': {'x-amz-id-2': 'EL0c9wwgHJaNYOrvv69CxcCVGIpqbJLU9S9XK9GKQhZsfNQqqPcoGjG4dp12SdiB3ts1tZTB3ho=',\n",
       "   'x-amz-request-id': '64QVGTPW5ZW321CY',\n",
       "   'date': 'Mon, 31 Jul 2023 22:42:15 GMT',\n",
       "   'server': 'AmazonS3'},\n",
       "  'RetryAttempts': 0}}"
      ]
     },
     "execution_count": 37,
     "metadata": {},
     "output_type": "execute_result"
    }
   ],
   "source": [
    "S3.delete_bucket(Bucket=\"shivamsaini12345\")"
   ]
  },
  {
   "cell_type": "markdown",
   "metadata": {},
   "source": [
    "Listing the files from a bucket:"
   ]
  },
  {
   "cell_type": "code",
   "execution_count": 47,
   "metadata": {},
   "outputs": [],
   "source": [
    "files = S3.list_objects(Bucket=\"shivamsaini1234\")"
   ]
  },
  {
   "cell_type": "code",
   "execution_count": 48,
   "metadata": {},
   "outputs": [
    {
     "data": {
      "text/plain": [
       "[{'Key': 'Memory Forensics.pdf.pdf',\n",
       "  'LastModified': datetime.datetime(2023, 7, 31, 21, 26, 57, tzinfo=tzutc()),\n",
       "  'ETag': '\"ad66e3ab87508ce18b772ac575fc4f54\"',\n",
       "  'Size': 4162817,\n",
       "  'StorageClass': 'STANDARD',\n",
       "  'Owner': {'ID': '31ef3788285ab1fb28d232560325d6fd872ede1ccb9c138ec7b7089dbaf0ad76'}},\n",
       " {'Key': 'aws.py',\n",
       "  'LastModified': datetime.datetime(2023, 7, 31, 22, 54, 56, tzinfo=tzutc()),\n",
       "  'ETag': '\"b991e8074a9cd440ab0fd883ecd60ae4\"',\n",
       "  'Size': 54,\n",
       "  'StorageClass': 'STANDARD',\n",
       "  'Owner': {'ID': '31ef3788285ab1fb28d232560325d6fd872ede1ccb9c138ec7b7089dbaf0ad76'}}]"
      ]
     },
     "execution_count": 48,
     "metadata": {},
     "output_type": "execute_result"
    }
   ],
   "source": [
    "files[\"Contents\"]"
   ]
  },
  {
   "cell_type": "code",
   "execution_count": 49,
   "metadata": {},
   "outputs": [
    {
     "name": "stdout",
     "output_type": "stream",
     "text": [
      "Memory Forensics.pdf.pdf\n",
      "aws.py\n"
     ]
    }
   ],
   "source": [
    "for file in files[\"Contents\"]:\n",
    "    print(file[\"Key\"])"
   ]
  },
  {
   "cell_type": "markdown",
   "metadata": {},
   "source": [
    "Uploading files:"
   ]
  },
  {
   "cell_type": "code",
   "execution_count": 56,
   "metadata": {},
   "outputs": [],
   "source": [
    "S3.upload_file(Bucket=\"shivamsaini1234\",Filename=\"AwsS3.py\",Key=\"aws.py\")"
   ]
  },
  {
   "cell_type": "markdown",
   "metadata": {},
   "source": [
    "Downloading files:"
   ]
  },
  {
   "cell_type": "code",
   "execution_count": 57,
   "metadata": {},
   "outputs": [],
   "source": [
    "S3.download_file(Bucket=\"shivamsaini1234\",Key=\"aws.py\",Filename=\"Shivam.py\")"
   ]
  },
  {
   "cell_type": "markdown",
   "metadata": {},
   "source": [
    "Deleting files:"
   ]
  },
  {
   "cell_type": "code",
   "execution_count": 54,
   "metadata": {},
   "outputs": [
    {
     "data": {
      "text/plain": [
       "{'ResponseMetadata': {'RequestId': 'H0CH0K6Y6QKXR9AM',\n",
       "  'HostId': 'zSCfezSJTK0ApWoUe2lMIwJ5a0+NCXvif/3HwFjsPffffpP8KoZKM1/bM80udnhzCsjyeC9yUkY=',\n",
       "  'HTTPStatusCode': 204,\n",
       "  'HTTPHeaders': {'x-amz-id-2': 'zSCfezSJTK0ApWoUe2lMIwJ5a0+NCXvif/3HwFjsPffffpP8KoZKM1/bM80udnhzCsjyeC9yUkY=',\n",
       "   'x-amz-request-id': 'H0CH0K6Y6QKXR9AM',\n",
       "   'date': 'Mon, 31 Jul 2023 23:03:29 GMT',\n",
       "   'server': 'AmazonS3'},\n",
       "  'RetryAttempts': 0}}"
      ]
     },
     "execution_count": 54,
     "metadata": {},
     "output_type": "execute_result"
    }
   ],
   "source": [
    "S3.delete_object(Bucket=\"shivamsaini1234\",Key=\"aws.py\")"
   ]
  },
  {
   "cell_type": "markdown",
   "metadata": {},
   "source": [
    "Get the object’s metadata:"
   ]
  },
  {
   "cell_type": "code",
   "execution_count": 58,
   "metadata": {},
   "outputs": [],
   "source": [
    "metadata = S3.head_object(Bucket=\"shivamsaini1234\",Key=\"aws.py\")"
   ]
  },
  {
   "cell_type": "code",
   "execution_count": 65,
   "metadata": {},
   "outputs": [
    {
     "data": {
      "text/plain": [
       "{'ResponseMetadata': {'RequestId': 'W7NRKTZ84HXDX26Q',\n",
       "  'HostId': 'kPpmS9bLJZCf/PKTNzGoDTFf498c26TZd6c0s8AtiCbEU1CcUUmUq3omTWEa7KEOLF5B2QZ6rQc=',\n",
       "  'HTTPStatusCode': 200,\n",
       "  'HTTPHeaders': {'x-amz-id-2': 'kPpmS9bLJZCf/PKTNzGoDTFf498c26TZd6c0s8AtiCbEU1CcUUmUq3omTWEa7KEOLF5B2QZ6rQc=',\n",
       "   'x-amz-request-id': 'W7NRKTZ84HXDX26Q',\n",
       "   'date': 'Mon, 31 Jul 2023 23:07:07 GMT',\n",
       "   'last-modified': 'Mon, 31 Jul 2023 23:06:43 GMT',\n",
       "   'etag': '\"b991e8074a9cd440ab0fd883ecd60ae4\"',\n",
       "   'x-amz-server-side-encryption': 'AES256',\n",
       "   'accept-ranges': 'bytes',\n",
       "   'content-type': 'binary/octet-stream',\n",
       "   'server': 'AmazonS3',\n",
       "   'content-length': '54'},\n",
       "  'RetryAttempts': 0},\n",
       " 'AcceptRanges': 'bytes',\n",
       " 'LastModified': datetime.datetime(2023, 7, 31, 23, 6, 43, tzinfo=tzutc()),\n",
       " 'ContentLength': 54,\n",
       " 'ETag': '\"b991e8074a9cd440ab0fd883ecd60ae4\"',\n",
       " 'ContentType': 'binary/octet-stream',\n",
       " 'ServerSideEncryption': 'AES256',\n",
       " 'Metadata': {}}"
      ]
     },
     "execution_count": 65,
     "metadata": {},
     "output_type": "execute_result"
    }
   ],
   "source": [
    "metadata"
   ]
  },
  {
   "cell_type": "code",
   "execution_count": null,
   "metadata": {},
   "outputs": [],
   "source": []
  }
 ],
 "metadata": {
  "kernelspec": {
   "display_name": "base",
   "language": "python",
   "name": "python3"
  },
  "language_info": {
   "codemirror_mode": {
    "name": "ipython",
    "version": 3
   },
   "file_extension": ".py",
   "mimetype": "text/x-python",
   "name": "python",
   "nbconvert_exporter": "python",
   "pygments_lexer": "ipython3",
   "version": "3.7.9"
  },
  "orig_nbformat": 4
 },
 "nbformat": 4,
 "nbformat_minor": 2
}
