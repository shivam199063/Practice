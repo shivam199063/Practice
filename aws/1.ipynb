{
 "cells": [
  {
   "cell_type": "code",
   "execution_count": 2,
   "metadata": {},
   "outputs": [
    {
     "ename": "ModuleNotFoundError",
     "evalue": "No module named 'boto3'",
     "output_type": "error",
     "traceback": [
      "\u001b[1;31m---------------------------------------------------------------------------\u001b[0m",
      "\u001b[1;31mModuleNotFoundError\u001b[0m                       Traceback (most recent call last)",
      "Cell \u001b[1;32mIn[2], line 1\u001b[0m\n\u001b[1;32m----> 1\u001b[0m \u001b[39mimport\u001b[39;00m \u001b[39mboto3\u001b[39;00m\n\u001b[0;32m      3\u001b[0m \u001b[39m# Initialize the SNS client\u001b[39;00m\n\u001b[0;32m      4\u001b[0m snsAlert \u001b[39m=\u001b[39m boto3\u001b[39m.\u001b[39mclient(\u001b[39m\"\u001b[39m\u001b[39msns\u001b[39m\u001b[39m\"\u001b[39m)\n",
      "\u001b[1;31mModuleNotFoundError\u001b[0m: No module named 'boto3'"
     ]
    }
   ],
   "source": [
    "import boto3\n",
    "\n",
    "# Initialize the SNS client\n",
    "snsAlert = boto3.client(\"sns\")\n",
    "\n",
    "def check_credentials(user_id, password):\n",
    "    # Dictionary containing user ID-password pairs (Replace with your own data)\n",
    "    credentials = {\n",
    "        'user1': 'password1',\n",
    "        'user2': 'password2',\n",
    "        'user3': 'password3'\n",
    "    }\n",
    "\n",
    "    # Check if the user ID exists in the credentials dictionary\n",
    "    if user_id in credentials:\n",
    "        # If the provided password matches the password associated with the user ID\n",
    "        if password == credentials[user_id]:\n",
    "            return True\n",
    "    return False\n",
    "\n",
    "def send_alert(message, subject):\n",
    "    # Replace the TopicArn with your own SNS topic ARN\n",
    "    snsAlert.publish(\n",
    "        Message=message,\n",
    "        Subject=subject,\n",
    "        TopicArn=\"arn:aws:sns:ap-south-2:789757563817:Alert\"\n",
    "    )\n",
    "def main():\n",
    "    user_id = input(\"Enter your user ID: \")\n",
    "    password = input(\"Enter your password: \")\n",
    "\n",
    "    if check_credentials(user_id, password):\n",
    "        print(\"Access granted!\")\n",
    "    else:\n",
    "        print(\"Access denied!\")\n",
    "        # Send an alert to the admin\n",
    "        send_alert(\"Unauthorized login attempt\", \"Malicious Threat Actor Detected\")\n",
    "\n",
    "if __name__ == \"__main__\":\n",
    "    main()"
   ]
  },
  {
   "cell_type": "code",
   "execution_count": null,
   "metadata": {},
   "outputs": [],
   "source": []
  }
 ],
 "metadata": {
  "kernelspec": {
   "display_name": "base",
   "language": "python",
   "name": "python3"
  },
  "language_info": {
   "codemirror_mode": {
    "name": "ipython",
    "version": 3
   },
   "file_extension": ".py",
   "mimetype": "text/x-python",
   "name": "python",
   "nbconvert_exporter": "python",
   "pygments_lexer": "ipython3",
   "version": "3.10.9"
  },
  "orig_nbformat": 4
 },
 "nbformat": 4,
 "nbformat_minor": 2
}
