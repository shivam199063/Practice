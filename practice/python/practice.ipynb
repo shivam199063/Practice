{
 "cells": [
  {
   "cell_type": "code",
   "execution_count": 1,
   "metadata": {},
   "outputs": [
    {
     "name": "stdout",
     "output_type": "stream",
     "text": [
      "Welcome to India\n"
     ]
    }
   ],
   "source": [
    "import os , subprocess\n",
    "print(\"Welcome to India\")"
   ]
  },
  {
   "cell_type": "code",
   "execution_count": 2,
   "metadata": {},
   "outputs": [],
   "source": [
    "a=input(\"Enter any command: \")"
   ]
  },
  {
   "cell_type": "code",
   "execution_count": 3,
   "metadata": {},
   "outputs": [],
   "source": [
    "\n",
    "output=subprocess.getoutput(a)"
   ]
  },
  {
   "cell_type": "code",
   "execution_count": 4,
   "metadata": {},
   "outputs": [
    {
     "data": {
      "text/plain": [
       "'\\nWindows IP Configuration\\n\\n\\nEthernet adapter Ethernet 4:\\n\\n   Connection-specific DNS Suffix  . : \\n   Link-local IPv6 Address . . . . . : fe80::a14f:b734:ce28:3e4d%21\\n   IPv4 Address. . . . . . . . . . . : 192.168.59.1\\n   Subnet Mask . . . . . . . . . . . : 255.255.255.0\\n   Default Gateway . . . . . . . . . : \\n\\nEthernet adapter Ethernet 2:\\n\\n   Connection-specific DNS Suffix  . : \\n   Link-local IPv6 Address . . . . . : fe80::ac07:dcca:a23e:998e%4\\n   IPv4 Address. . . . . . . . . . . : 192.168.56.1\\n   Subnet Mask . . . . . . . . . . . : 255.255.255.0\\n   Default Gateway . . . . . . . . . : \\n\\nWireless LAN adapter Local Area Connection* 1:\\n\\n   Media State . . . . . . . . . . . : Media disconnected\\n   Connection-specific DNS Suffix  . : \\n\\nWireless LAN adapter Local Area Connection* 2:\\n\\n   Media State . . . . . . . . . . . : Media disconnected\\n   Connection-specific DNS Suffix  . : \\n\\nWireless LAN adapter Wi-Fi:\\n\\n   Connection-specific DNS Suffix  . : \\n   IPv6 Address. . . . . . . . . . . : 2409:4052:4d82:8e1c:d295:a7ea:3d51:92c9\\n   Temporary IPv6 Address. . . . . . : 2409:4052:4d82:8e1c:a489:f930:1992:49d8\\n   Link-local IPv6 Address . . . . . : fe80::3b9c:35cd:28bb:37fe%11\\n   IPv4 Address. . . . . . . . . . . : 192.168.151.238\\n   Subnet Mask . . . . . . . . . . . : 255.255.255.0\\n   Default Gateway . . . . . . . . . : fe80::94f8:dbff:feaa:7b81%11\\n                                       192.168.151.172'"
      ]
     },
     "execution_count": 4,
     "metadata": {},
     "output_type": "execute_result"
    }
   ],
   "source": [
    "output"
   ]
  },
  {
   "cell_type": "code",
   "execution_count": 13,
   "metadata": {},
   "outputs": [
    {
     "data": {
      "text/plain": [
       "['Windows IP Configuration', '', '', 'Ethernet adapter Ethernet 4:']"
      ]
     },
     "execution_count": 13,
     "metadata": {},
     "output_type": "execute_result"
    }
   ],
   "source": [
    "output.split(\"\\n\")[1:5]"
   ]
  },
  {
   "cell_type": "code",
   "execution_count": null,
   "metadata": {},
   "outputs": [],
   "source": []
  }
 ],
 "metadata": {
  "kernelspec": {
   "display_name": "base",
   "language": "python",
   "name": "python3"
  },
  "language_info": {
   "codemirror_mode": {
    "name": "ipython",
    "version": 3
   },
   "file_extension": ".py",
   "mimetype": "text/x-python",
   "name": "python",
   "nbconvert_exporter": "python",
   "pygments_lexer": "ipython3",
   "version": "3.10.9"
  },
  "orig_nbformat": 4
 },
 "nbformat": 4,
 "nbformat_minor": 2
}
