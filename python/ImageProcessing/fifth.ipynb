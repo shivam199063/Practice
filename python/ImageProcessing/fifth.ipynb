{
 "cells": [
  {
   "cell_type": "code",
   "execution_count": 4,
   "metadata": {},
   "outputs": [],
   "source": [
    "import cv2 , numpy as np"
   ]
  },
  {
   "cell_type": "code",
   "execution_count": 27,
   "metadata": {},
   "outputs": [],
   "source": [
    "flag= False\n",
    "current_x = -1\n",
    "current_y = -1\n",
    "def drawing(event,x,y,flags,params):\n",
    "   global current_x \n",
    "   global current_y\n",
    "   global flag\n",
    "\n",
    "   if event==4:\n",
    "      flag=True\n",
    "      current_x=x\n",
    "      current_y=y\n",
    "      cv2.circle(image,center=(current_x,current_y),radius=30,color=(255,0,0),thickness=-1)\n",
    "\n",
    "\n",
    "   \n",
    "        \n",
    "\n",
    "\n",
    "\n",
    "cv2.namedWindow(winname=\"window\")\n",
    "cv2.setMouseCallback(\"window\",drawing)\n",
    "image= np.zeros((512,512,3))\n",
    "while True:\n",
    "    cv2.imshow(\"window\",image)\n",
    "    if cv2.waitKey(1) & 0xFF == ord('x'):\n",
    "        break\n",
    "cv2.destroyAllWindows()"
   ]
  },
  {
   "cell_type": "code",
   "execution_count": 6,
   "metadata": {},
   "outputs": [],
   "source": []
  },
  {
   "cell_type": "code",
   "execution_count": null,
   "metadata": {},
   "outputs": [],
   "source": []
  }
 ],
 "metadata": {
  "kernelspec": {
   "display_name": "Python 3",
   "language": "python",
   "name": "python3"
  },
  "language_info": {
   "codemirror_mode": {
    "name": "ipython",
    "version": 3
   },
   "file_extension": ".py",
   "mimetype": "text/x-python",
   "name": "python",
   "nbconvert_exporter": "python",
   "pygments_lexer": "ipython3",
   "version": "3.7.9"
  },
  "orig_nbformat": 4
 },
 "nbformat": 4,
 "nbformat_minor": 2
}
